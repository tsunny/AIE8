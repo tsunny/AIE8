{
 "cells": [
  {
   "cell_type": "markdown",
   "metadata": {
    "id": "lElF3o5PR6ys"
   },
   "source": [
    "# Your First RAG Application\n",
    "\n",
    "In this notebook, we'll walk you through each of the components that are involved in a simple RAG application.\n",
    "\n",
    "We won't be leveraging any fancy tools, just the OpenAI Python SDK, Numpy, and some classic Python.\n",
    "\n",
    "> NOTE: This was done with Python 3.12.3.\n",
    "\n",
    "> NOTE: There might be [compatibility issues](https://github.com/wandb/wandb/issues/7683) if you're on NVIDIA driver >552.44 As an interim solution - you can rollback your drivers to the 552.44."
   ]
  },
  {
   "cell_type": "markdown",
   "metadata": {
    "id": "5CtcL8P8R6yt"
   },
   "source": [
    "## Table of Contents:\n",
    "\n",
    "- Task 1: Imports and Utilities\n",
    "- Task 2: Documents\n",
    "- Task 3: Embeddings and Vectors\n",
    "- Task 4: Prompts\n",
    "- Task 5: Retrieval Augmented Generation\n",
    "  - 🚧 Activity #1: Augment RAG"
   ]
  },
  {
   "cell_type": "markdown",
   "metadata": {
    "id": "1Dz6GYilR6yt"
   },
   "source": [
    "Let's look at a rather complicated looking visual representation of a basic RAG application.\n",
    "\n",
    "<img src=\"https://i.imgur.com/vD8b016.png\" />"
   ]
  },
  {
   "cell_type": "markdown",
   "metadata": {
    "id": "PjmC0KFtR6yt"
   },
   "source": [
    "## Task 1: Imports and Utility\n",
    "\n",
    "We're just doing some imports and enabling `async` to work within the Jupyter environment here, nothing too crazy!"
   ]
  },
  {
   "cell_type": "code",
   "metadata": {
    "id": "Z1dyrG4hR6yt",
    "ExecuteTime": {
     "end_time": "2025-09-21T07:46:10.547738Z",
     "start_time": "2025-09-21T07:46:10.239604Z"
    }
   },
   "source": [
    "from aimakerspace.text_utils import TextFileLoader, CharacterTextSplitter\n",
    "from aimakerspace.vectordatabase import VectorDatabase\n",
    "import asyncio"
   ],
   "outputs": [],
   "execution_count": 1
  },
  {
   "cell_type": "code",
   "metadata": {
    "id": "9OrFZRnER6yt",
    "ExecuteTime": {
     "end_time": "2025-09-21T07:46:10.634604Z",
     "start_time": "2025-09-21T07:46:10.632657Z"
    }
   },
   "source": [
    "import nest_asyncio\n",
    "nest_asyncio.apply()"
   ],
   "outputs": [],
   "execution_count": 2
  },
  {
   "cell_type": "markdown",
   "metadata": {
    "id": "M0jGnpQsR6yu"
   },
   "source": [
    "## Task 2: Documents\n",
    "\n",
    "We'll be concerning ourselves with this part of the flow in the following section:\n",
    "\n",
    "<img src=\"https://i.imgur.com/jTm9gjk.png\" />"
   ]
  },
  {
   "cell_type": "markdown",
   "metadata": {
    "id": "-SFPWvRUR6yu"
   },
   "source": [
    "### Loading Source Documents\n",
    "\n",
    "So, first things first, we need some documents to work with.\n",
    "\n",
    "While we could work directly with the `.txt` files (or whatever file-types you wanted to extend this to) we can instead do some batch processing of those documents at the beginning in order to store them in a more machine compatible format.\n",
    "\n",
    "In this case, we're going to parse our text file into a single document in memory.\n",
    "\n",
    "Let's look at the relevant bits of the `TextFileLoader` class:\n",
    "\n",
    "```python\n",
    "def load_file(self):\n",
    "        with open(self.path, \"r\", encoding=self.encoding) as f:\n",
    "            self.documents.append(f.read())\n",
    "```\n",
    "\n",
    "We're simply loading the document using the built in `open` method, and storing that output in our `self.documents` list.\n",
    "\n",
    "> NOTE: We're using blogs from PMarca (Marc Andreessen) as our sample data. This data is largely irrelevant as we want to focus on the mechanisms of RAG, which includes out data's shape and quality - but not specifically what the contents of the data are. \n"
   ]
  },
  {
   "cell_type": "code",
   "metadata": {
    "colab": {
     "base_uri": "https://localhost:8080/"
    },
    "id": "Ia2sUEuGR6yu",
    "outputId": "84937ecc-c35f-4c4a-a4ab-9da72625954c",
    "ExecuteTime": {
     "end_time": "2025-09-21T07:46:10.644296Z",
     "start_time": "2025-09-21T07:46:10.641068Z"
    }
   },
   "source": [
    "text_loader = TextFileLoader(\"data/PMarcaBlogs.txt\")\n",
    "documents = text_loader.load_documents()\n",
    "len(documents)"
   ],
   "outputs": [
    {
     "data": {
      "text/plain": [
       "1"
      ]
     },
     "execution_count": 3,
     "metadata": {},
     "output_type": "execute_result"
    }
   ],
   "execution_count": 3
  },
  {
   "cell_type": "code",
   "metadata": {
    "colab": {
     "base_uri": "https://localhost:8080/"
    },
    "id": "bV-tj5WFR6yu",
    "outputId": "674eb315-1ff3-4597-bcf5-38ece0a812ac",
    "ExecuteTime": {
     "end_time": "2025-09-21T07:46:10.661781Z",
     "start_time": "2025-09-21T07:46:10.660361Z"
    }
   },
   "source": [
    "print(documents[0][:100])"
   ],
   "outputs": [
    {
     "name": "stdout",
     "output_type": "stream",
     "text": [
      "﻿\n",
      "The Pmarca Blog Archives\n",
      "(select posts from 2007-2009)\n",
      "Marc Andreessen\n",
      "copyright: Andreessen Horow\n"
     ]
    }
   ],
   "execution_count": 4
  },
  {
   "cell_type": "markdown",
   "metadata": {
    "id": "nHlTvCzYR6yu"
   },
   "source": [
    "### Splitting Text Into Chunks\n",
    "\n",
    "As we can see, there is one massive document.\n",
    "\n",
    "We'll want to chunk the document into smaller parts so it's easier to pass the most relevant snippets to the LLM.\n",
    "\n",
    "There is no fixed way to split/chunk documents - and you'll need to rely on some intuition as well as knowing your data *very* well in order to build the most robust system.\n",
    "\n",
    "For this toy example, we'll just split blindly on length.\n",
    "\n",
    ">There's an opportunity to clear up some terminology here, for this course we will be stick to the following:\n",
    ">\n",
    ">- \"source documents\" : The `.txt`, `.pdf`, `.html`, ..., files that make up the files and information we start with in its raw format\n",
    ">- \"document(s)\" : single (or more) text object(s)\n",
    ">- \"corpus\" : the combination of all of our documents"
   ]
  },
  {
   "cell_type": "markdown",
   "metadata": {
    "id": "2G6Voc0jR6yv"
   },
   "source": [
    "As you can imagine (though it's not specifically true in this toy example) the idea of splitting documents is to break them into managable sized chunks that retain the most relevant local context."
   ]
  },
  {
   "cell_type": "code",
   "metadata": {
    "colab": {
     "base_uri": "https://localhost:8080/"
    },
    "id": "UMC4tsEmR6yv",
    "outputId": "08689c0b-57cd-4040-942a-8193e997f5cb",
    "ExecuteTime": {
     "end_time": "2025-09-21T07:46:10.702517Z",
     "start_time": "2025-09-21T07:46:10.700535Z"
    }
   },
   "source": [
    "text_splitter = CharacterTextSplitter()\n",
    "split_documents = text_splitter.split_texts(documents)\n",
    "len(split_documents)"
   ],
   "outputs": [
    {
     "data": {
      "text/plain": [
       "373"
      ]
     },
     "execution_count": 5,
     "metadata": {},
     "output_type": "execute_result"
    }
   ],
   "execution_count": 5
  },
  {
   "cell_type": "markdown",
   "metadata": {
    "id": "W2wKT0WLR6yv"
   },
   "source": [
    "Let's take a look at some of the documents we've managed to split."
   ]
  },
  {
   "cell_type": "code",
   "metadata": {
    "colab": {
     "base_uri": "https://localhost:8080/"
    },
    "id": "vcYMwWJoR6yv",
    "outputId": "20d69876-feca-4826-b4be-32915276987a",
    "ExecuteTime": {
     "end_time": "2025-09-21T07:46:10.723245Z",
     "start_time": "2025-09-21T07:46:10.721411Z"
    }
   },
   "source": [
    "split_documents[0:1]"
   ],
   "outputs": [
    {
     "data": {
      "text/plain": [
       "['\\ufeff\\nThe Pmarca Blog Archives\\n(select posts from 2007-2009)\\nMarc Andreessen\\ncopyright: Andreessen Horowitz\\ncover design: Jessica Hagy\\nproduced using: Pressbooks\\nContents\\nTHE PMARCA GUIDE TO STARTUPS\\nPart 1: Why not to do a startup 2\\nPart 2: When the VCs say \"no\" 10\\nPart 3: \"But I don\\'t know any VCs!\" 18\\nPart 4: The only thing that matters 25\\nPart 5: The Moby Dick theory of big companies 33\\nPart 6: How much funding is too little? Too much? 41\\nPart 7: Why a startup\\'s initial business plan doesn\\'t\\nmatter that much\\n49\\nTHE PMARCA GUIDE TO HIRING\\nPart 8: Hiring, managing, promoting, and Dring\\nexecutives\\n54\\nPart 9: How to hire a professional CEO 68\\nHow to hire the best people you\\'ve ever worked\\nwith\\n69\\nTHE PMARCA GUIDE TO BIG COMPANIES\\nPart 1: Turnaround! 82\\nPart 2: Retaining great people 86\\nTHE PMARCA GUIDE TO CAREER, PRODUCTIVITY,\\nAND SOME OTHER THINGS\\nIntroduction 97\\nPart 1: Opportunity 99\\nPart 2: Skills and education 107\\nPart 3: Where to go and why 120\\nThe Pmarca Guide to Personal Productivi']"
      ]
     },
     "execution_count": 6,
     "metadata": {},
     "output_type": "execute_result"
    }
   ],
   "execution_count": 6
  },
  {
   "cell_type": "markdown",
   "metadata": {
    "id": "HOU-RFP_R6yv"
   },
   "source": [
    "## Task 3: Embeddings and Vectors\n",
    "\n",
    "Next, we have to convert our corpus into a \"machine readable\" format as we explored in the Embedding Primer notebook.\n",
    "\n",
    "Today, we're going to talk about the actual process of creating, and then storing, these embeddings, and how we can leverage that to intelligently add context to our queries."
   ]
  },
  {
   "cell_type": "markdown",
   "metadata": {},
   "source": [
    "### OpenAI API Key\n",
    "\n",
    "In order to access OpenAI's APIs, we'll need to provide our OpenAI API Key!\n",
    "\n",
    "You can work through the folder \"OpenAI API Key Setup\" for more information on this process if you don't already have an API Key!"
   ]
  },
  {
   "cell_type": "code",
   "metadata": {
    "ExecuteTime": {
     "end_time": "2025-09-21T07:46:26.572367Z",
     "start_time": "2025-09-21T07:46:10.741221Z"
    }
   },
   "source": [
    "import os\n",
    "import openai\n",
    "from getpass import getpass\n",
    "\n",
    "openai.api_key = getpass(\"OpenAI API Key: \")\n",
    "os.environ[\"OPENAI_API_KEY\"] = openai.api_key"
   ],
   "outputs": [],
   "execution_count": 7
  },
  {
   "cell_type": "markdown",
   "metadata": {},
   "source": [
    "### Vector Database\n",
    "\n",
    "Let's set up our vector database to hold all our documents and their embeddings!"
   ]
  },
  {
   "cell_type": "markdown",
   "metadata": {
    "id": "kDQrfAR1R6yv"
   },
   "source": [
    "While this is all baked into 1 call - we can look at some of the code that powers this process to get a better understanding:\n",
    "\n",
    "Let's look at our `VectorDatabase().__init__()`:\n",
    "\n",
    "```python\n",
    "def __init__(self, embedding_model: EmbeddingModel = None):\n",
    "        self.vectors = defaultdict(np.array)\n",
    "        self.embedding_model = embedding_model or EmbeddingModel()\n",
    "```\n",
    "\n",
    "As you can see - our vectors are merely stored as a dictionary of `np.array` objects.\n",
    "\n",
    "Secondly, our `VectorDatabase()` has a default `EmbeddingModel()` which is a wrapper for OpenAI's `text-embedding-3-small` model.\n",
    "\n",
    "> **Quick Info About `text-embedding-3-small`**:\n",
    "> - It has a context window of **8191** tokens\n",
    "> - It returns vectors with dimension **1536**"
   ]
  },
  {
   "cell_type": "markdown",
   "metadata": {
    "id": "L273pRdeR6yv"
   },
   "source": [
    "#### ❓Question #1:\n",
    "\n",
    "The default embedding dimension of `text-embedding-3-small` is 1536, as noted above. \n",
    "\n",
    "1. Is there any way to modify this dimension?\n",
    "2. What technique does OpenAI use to achieve this?\n",
    "\n",
    "> NOTE: Check out this [API documentation](https://platform.openai.com/docs/api-reference/embeddings/create) for the answer to question #1.1, and [this documentation](https://platform.openai.com/docs/guides/embeddings/use-cases) for an answer to question #1.2!\n"
   ]
  },
  {
   "cell_type": "markdown",
   "metadata": {},
   "source": [
    "##### ✅ Answer:\n",
    "1. Yes, using the `dimensions` parameter when creating the embeddings `async_client.embeddings.create()`\n",
    "2. OpenAI used the Matryoshka Representation Learning (MRL) to reduce the embeddings"
   ]
  },
  {
   "cell_type": "markdown",
   "metadata": {
    "id": "w5FZY7K3R6yv"
   },
   "source": [
    "We can call the `async_get_embeddings` method of our `EmbeddingModel()` on a list of `str` and receive a list of `float` back!\n",
    "\n",
    "```python\n",
    "async def async_get_embeddings(self, list_of_text: List[str]) -> List[List[float]]:\n",
    "        return await aget_embeddings(\n",
    "            list_of_text=list_of_text, engine=self.embeddings_model_name\n",
    "        )\n",
    "```"
   ]
  },
  {
   "cell_type": "markdown",
   "metadata": {
    "id": "cSct6X0aR6yv"
   },
   "source": [
    "We cast those to `np.array` when we build our `VectorDatabase()`:\n",
    "\n",
    "```python\n",
    "async def abuild_from_list(self, list_of_text: List[str]) -> \"VectorDatabase\":\n",
    "        embeddings = await self.embedding_model.async_get_embeddings(list_of_text)\n",
    "        for text, embedding in zip(list_of_text, embeddings):\n",
    "            self.insert(text, np.array(embedding))\n",
    "        return self\n",
    "```\n",
    "\n",
    "And that's all we need to do!"
   ]
  },
  {
   "cell_type": "code",
   "metadata": {
    "id": "O4KoLbVDR6yv",
    "ExecuteTime": {
     "end_time": "2025-09-21T07:46:29.687768Z",
     "start_time": "2025-09-21T07:46:26.587898Z"
    }
   },
   "source": [
    "vector_db = VectorDatabase()\n",
    "vector_db = asyncio.run(vector_db.abuild_from_list(split_documents))"
   ],
   "outputs": [],
   "execution_count": 8
  },
  {
   "cell_type": "markdown",
   "metadata": {
    "id": "SSZwaGvpR6yv"
   },
   "source": [
    "#### ❓Question #2:\n",
    "\n",
    "What are the benefits of using an `async` approach to collecting our embeddings?\n",
    "\n",
    "> NOTE: Determining the core difference between `async` and `sync` will be useful! If you get stuck - ask ChatGPT!"
   ]
  },
  {
   "cell_type": "markdown",
   "metadata": {},
   "source": [
    "##### ✅ Answer:\n",
    "- Parallel processing\n",
    "- Better throughput\n",
    "- Non-Blocking I/O - Application can process requests while waiting on the embeddings to be processed.\n",
    "- Overall a scalable approach compared to sequential processing."
   ]
  },
  {
   "cell_type": "markdown",
   "metadata": {
    "id": "nRBdIt-xR6yw"
   },
   "source": [
    "So, to review what we've done so far in natural language:\n",
    "\n",
    "1. We load source documents\n",
    "2. We split those source documents into smaller chunks (documents)\n",
    "3. We send each of those documents to the `text-embedding-3-small` OpenAI API endpoint\n",
    "4. We store each of the text representations with the vector representations as keys/values in a dictionary"
   ]
  },
  {
   "metadata": {
    "SqlCellData": {
     "variableName$1": "df_sql1"
    }
   },
   "cell_type": "code",
   "outputs": [],
   "execution_count": null,
   "source": "%%sql\n"
  },
  {
   "cell_type": "markdown",
   "metadata": {
    "id": "4-vWANZyR6yw"
   },
   "source": [
    "### Semantic Similarity\n",
    "\n",
    "The next step is to be able to query our `VectorDatabase()` with a `str` and have it return to us vectors and text that is most relevant from our corpus.\n",
    "\n",
    "We're going to use the following process to achieve this in our toy example:\n",
    "\n",
    "1. We need to embed our query with the same `EmbeddingModel()` as we used to construct our `VectorDatabase()`\n",
    "2. We loop through every vector in our `VectorDatabase()` and use a distance measure to compare how related they are\n",
    "3. We return a list of the top `k` closest vectors, with their text representations\n",
    "\n",
    "There's some very heavy optimization that can be done at each of these steps - but let's just focus on the basic pattern in this notebook.\n",
    "\n",
    "> We are using [cosine similarity](https://www.engati.com/glossary/cosine-similarity) as a distance metric in this example - but there are many many distance metrics you could use - like [these](https://flavien-vidal.medium.com/similarity-distances-for-natural-language-processing-16f63cd5ba55)\n",
    "\n",
    "> We are using a rather inefficient way of calculating relative distance between the query vector and all other vectors - there are more advanced approaches that are much more efficient, like [ANN](https://towardsdatascience.com/comprehensive-guide-to-approximate-nearest-neighbors-algorithms-8b94f057d6b6)"
   ]
  },
  {
   "cell_type": "code",
   "metadata": {
    "colab": {
     "base_uri": "https://localhost:8080/"
    },
    "id": "76d96uavR6yw",
    "outputId": "bbfccc31-20a2-41c7-c14d-46554a43ed2d",
    "ExecuteTime": {
     "end_time": "2025-09-21T07:46:30.857566Z",
     "start_time": "2025-09-21T07:46:29.693814Z"
    }
   },
   "source": [
    "vector_db.search_by_text(\"What is the Michael Eisner Memorial Weak Executive Problem?\", k=3)"
   ],
   "outputs": [
    {
     "data": {
      "text/plain": [
       "[('ordingly.\\nSeventh, when hiring the executive to run your former specialty, be\\ncareful you don’t hire someone weak on purpose.\\nThis sounds silly, but you wouldn’t believe how oaen it happens.\\nThe CEO who used to be a product manager who has a weak\\nproduct management executive. The CEO who used to be in\\nsales who has a weak sales executive. The CEO who used to be\\nin marketing who has a weak marketing executive.\\nI call this the “Michael Eisner Memorial Weak Executive Problem” — aaer the CEO of Disney who had previously been a brilliant TV network executive. When he bought ABC at Disney, it\\npromptly fell to fourth place. His response? “If I had an extra\\ntwo days a week, I could turn around ABC myself.” Well, guess\\nwhat, he didn’t have an extra two days a week.\\nA CEO — or a startup founder — oaen has a hard time letting\\ngo of the function that brought him to the party. The result: you\\nhire someone weak into the executive role for that function so\\nthat you can continue to be “the man” — cons',\n",
       "  np.float64(0.6538563767462544)),\n",
       " ('m. They have areas where they are truly deXcient in judgment or skill set. That’s just life. Almost nobody is brilliant\\nat everything. When hiring and when Hring executives, you\\nmust therefore focus on strength rather than lack of weakness. Everybody has severe weaknesses even if you can’t see\\nthem yet. When managing, it’s oaen useful to micromanage and\\nto provide remedial training around these weaknesses. Doing so\\nmay make the diWerence between an executive succeeding or\\nfailing.\\nFor example, you might have a brilliant engineering executive\\nwho generates excellent team loyalty, has terriXc product judgment and makes the trains run on time. This same executive\\nmay be very poor at relating to the other functions in the company. She may generate far more than her share of cross-functional conYicts, cut herself oW from critical information, and\\nsigniXcantly impede your ability to sell and market eWectively.\\nYour alternatives are:\\n(a) Macro-manage and give her an annual or quarterly object',\n",
       "  np.float64(0.5036012174947992)),\n",
       " ('ed?\\nIn reality — as opposed to Marc’s warped view of reality — it will\\nbe extremely helpful for Marc [if he were actually the CEO,\\nwhich he is not] to meet with the new head of engineering daily\\nwhen she comes on board and review all of her thinking and\\ndecisions. This level of micromanagement will accelerate her\\ntraining and improve her long-term eWectiveness. It will make\\nher seem smarter to the rest of the organization which will build\\ncredibility and conXdence while she comes up to speed. Micromanaging new executives is generally a good idea for a limited\\nperiod of time.\\nHowever, that is not the only time that it makes sense to micro66 The Pmarca Blog Archives\\nmanage executives. It turns out that just about every executive\\nin the world has a few things that are seriously wrong with\\nthem. They have areas where they are truly deXcient in judgment or skill set. That’s just life. Almost nobody is brilliant\\nat everything. When hiring and when Hring executives, you\\nmust therefore focus o',\n",
       "  np.float64(0.4814102594977529))]"
      ]
     },
     "execution_count": 9,
     "metadata": {},
     "output_type": "execute_result"
    }
   ],
   "execution_count": 9
  },
  {
   "cell_type": "markdown",
   "metadata": {
    "id": "TehsfIiKR6yw"
   },
   "source": [
    "## Task 4: Prompts\n",
    "\n",
    "In the following section, we'll be looking at the role of prompts - and how they help us to guide our application in the right direction.\n",
    "\n",
    "In this notebook, we're going to rely on the idea of \"zero-shot in-context learning\".\n",
    "\n",
    "This is a lot of words to say: \"We will ask it to perform our desired task in the prompt, and provide no examples.\""
   ]
  },
  {
   "cell_type": "markdown",
   "metadata": {
    "id": "yXpA0UveR6yw"
   },
   "source": [
    "### XYZRolePrompt\n",
    "\n",
    "Before we do that, let's stop and think a bit about how OpenAI's chat models work.\n",
    "\n",
    "We know they have roles - as is indicated in the following API [documentation](https://platform.openai.com/docs/api-reference/chat/create#chat/create-messages)\n",
    "\n",
    "There are three roles, and they function as follows (taken directly from [OpenAI](https://platform.openai.com/docs/guides/gpt/chat-completions-api)):\n",
    "\n",
    "- `{\"role\" : \"system\"}` : The system message helps set the behavior of the assistant. For example, you can modify the personality of the assistant or provide specific instructions about how it should behave throughout the conversation. However note that the system message is optional and the model’s behavior without a system message is likely to be similar to using a generic message such as \"You are a helpful assistant.\"\n",
    "- `{\"role\" : \"user\"}` : The user messages provide requests or comments for the assistant to respond to.\n",
    "- `{\"role\" : \"assistant\"}` : Assistant messages store previous assistant responses, but can also be written by you to give examples of desired behavior.\n",
    "\n",
    "The main idea is this:\n",
    "\n",
    "1. You start with a system message that outlines how the LLM should respond, what kind of behaviours you can expect from it, and more\n",
    "2. Then, you can provide a few examples in the form of \"assistant\"/\"user\" pairs\n",
    "3. Then, you prompt the model with the true \"user\" message.\n",
    "\n",
    "In this example, we'll be forgoing the 2nd step for simplicities sake."
   ]
  },
  {
   "cell_type": "markdown",
   "metadata": {
    "id": "gdZ2KWKSR6yw"
   },
   "source": [
    "#### Utility Functions\n",
    "\n",
    "You'll notice that we're using some utility functions from the `aimakerspace` module - let's take a peek at these and see what they're doing!"
   ]
  },
  {
   "cell_type": "markdown",
   "metadata": {
    "id": "GFbeJDDsR6yw"
   },
   "source": [
    "##### XYZRolePrompt"
   ]
  },
  {
   "cell_type": "markdown",
   "metadata": {
    "id": "5mojJSE3R6yw"
   },
   "source": [
    "Here we have our `system`, `user`, and `assistant` role prompts.\n",
    "\n",
    "Let's take a peek at what they look like:\n",
    "\n",
    "```python\n",
    "class BasePrompt:\n",
    "    def __init__(self, prompt):\n",
    "        \"\"\"\n",
    "        Initializes the BasePrompt object with a prompt template.\n",
    "\n",
    "        :param prompt: A string that can contain placeholders within curly braces\n",
    "        \"\"\"\n",
    "        self.prompt = prompt\n",
    "        self._pattern = re.compile(r\"\\{([^}]+)\\}\")\n",
    "\n",
    "    def format_prompt(self, **kwargs):\n",
    "        \"\"\"\n",
    "        Formats the prompt string using the keyword arguments provided.\n",
    "\n",
    "        :param kwargs: The values to substitute into the prompt string\n",
    "        :return: The formatted prompt string\n",
    "        \"\"\"\n",
    "        matches = self._pattern.findall(self.prompt)\n",
    "        return self.prompt.format(**{match: kwargs.get(match, \"\") for match in matches})\n",
    "\n",
    "    def get_input_variables(self):\n",
    "        \"\"\"\n",
    "        Gets the list of input variable names from the prompt string.\n",
    "\n",
    "        :return: List of input variable names\n",
    "        \"\"\"\n",
    "        return self._pattern.findall(self.prompt)\n",
    "```\n",
    "\n",
    "Then we have our `RolePrompt` which laser focuses us on the role pattern found in most API endpoints for LLMs.\n",
    "\n",
    "```python\n",
    "class RolePrompt(BasePrompt):\n",
    "    def __init__(self, prompt, role: str):\n",
    "        \"\"\"\n",
    "        Initializes the RolePrompt object with a prompt template and a role.\n",
    "\n",
    "        :param prompt: A string that can contain placeholders within curly braces\n",
    "        :param role: The role for the message ('system', 'user', or 'assistant')\n",
    "        \"\"\"\n",
    "        super().__init__(prompt)\n",
    "        self.role = role\n",
    "\n",
    "    def create_message(self, **kwargs):\n",
    "        \"\"\"\n",
    "        Creates a message dictionary with a role and a formatted message.\n",
    "\n",
    "        :param kwargs: The values to substitute into the prompt string\n",
    "        :return: Dictionary containing the role and the formatted message\n",
    "        \"\"\"\n",
    "        return {\"role\": self.role, \"content\": self.format_prompt(**kwargs)}\n",
    "```\n",
    "\n",
    "We'll look at how the `SystemRolePrompt` is constructed to get a better idea of how that extension works:\n",
    "\n",
    "```python\n",
    "class SystemRolePrompt(RolePrompt):\n",
    "    def __init__(self, prompt: str):\n",
    "        super().__init__(prompt, \"system\")\n",
    "```\n",
    "\n",
    "That pattern is repeated for our `UserRolePrompt` and our `AssistantRolePrompt` as well."
   ]
  },
  {
   "cell_type": "markdown",
   "metadata": {
    "id": "D361R6sMR6yw"
   },
   "source": [
    "##### ChatOpenAI"
   ]
  },
  {
   "cell_type": "markdown",
   "metadata": {
    "id": "HJVQ2Pm8R6yw"
   },
   "source": [
    "Next we have our model, which is converted to a format analagous to libraries like LangChain and LlamaIndex.\n",
    "\n",
    "Let's take a peek at how that is constructed:\n",
    "\n",
    "```python\n",
    "class ChatOpenAI:\n",
    "    def __init__(self, model_name: str = \"gpt-4.1-mini\"):\n",
    "        self.model_name = model_name\n",
    "        self.openai_api_key = os.getenv(\"OPENAI_API_KEY\")\n",
    "        if self.openai_api_key is None:\n",
    "            raise ValueError(\"OPENAI_API_KEY is not set\")\n",
    "\n",
    "    def run(self, messages, text_only: bool = True):\n",
    "        if not isinstance(messages, list):\n",
    "            raise ValueError(\"messages must be a list\")\n",
    "\n",
    "        openai.api_key = self.openai_api_key\n",
    "        response = openai.ChatCompletion.create(\n",
    "            model=self.model_name, messages=messages\n",
    "        )\n",
    "\n",
    "        if text_only:\n",
    "            return response.choices[0].message.content\n",
    "\n",
    "        return response\n",
    "```"
   ]
  },
  {
   "cell_type": "markdown",
   "metadata": {
    "id": "qCU7FfhIR6yw"
   },
   "source": [
    "#### ❓ Question #3:\n",
    "\n",
    "When calling the OpenAI API - are there any ways we can achieve more reproducible outputs?\n",
    "\n",
    "> NOTE: Check out [this section](https://platform.openai.com/docs/guides/text-generation/) of the OpenAI documentation for the answer!"
   ]
  },
  {
   "cell_type": "markdown",
   "metadata": {},
   "source": [
    "##### ✅ Answer:\n",
    "Prompt Engineering: Getting the desired \"deterministic\" output is a mix of art and science."
   ]
  },
  {
   "cell_type": "markdown",
   "metadata": {
    "id": "c5wcjMLCR6yw"
   },
   "source": [
    "### Creating and Prompting OpenAI's `gpt-4.1-mini`!\n",
    "\n",
    "Let's tie all these together and use it to prompt `gpt-4.1-mini`!"
   ]
  },
  {
   "cell_type": "code",
   "metadata": {
    "id": "WIfpIot7R6yw",
    "ExecuteTime": {
     "end_time": "2025-09-21T07:46:34.580571Z",
     "start_time": "2025-09-21T07:46:30.865732Z"
    }
   },
   "source": [
    "from aimakerspace.openai_utils.prompts import (\n",
    "    UserRolePrompt,\n",
    "    SystemRolePrompt,\n",
    "    AssistantRolePrompt,\n",
    ")\n",
    "\n",
    "from aimakerspace.openai_utils.chatmodel import ChatOpenAI\n",
    "\n",
    "chat_openai = ChatOpenAI()\n",
    "user_prompt_template = \"{content}\"\n",
    "user_role_prompt = UserRolePrompt(user_prompt_template)\n",
    "system_prompt_template = (\n",
    "    \"You are an expert in {expertise}, you always answer in a kind way.\"\n",
    ")\n",
    "system_role_prompt = SystemRolePrompt(system_prompt_template)\n",
    "\n",
    "messages = [\n",
    "    system_role_prompt.create_message(expertise=\"Python\"),\n",
    "    user_role_prompt.create_message(\n",
    "        content=\"What is the best way to write a loop?\"\n",
    "    ),\n",
    "]\n",
    "\n",
    "response = chat_openai.run(messages)"
   ],
   "outputs": [],
   "execution_count": 10
  },
  {
   "cell_type": "code",
   "metadata": {
    "colab": {
     "base_uri": "https://localhost:8080/"
    },
    "id": "dHo7lssNR6yw",
    "outputId": "1d3823fa-bb6b-45f6-ddba-b41686388324",
    "ExecuteTime": {
     "end_time": "2025-09-21T07:46:34.592347Z",
     "start_time": "2025-09-21T07:46:34.590450Z"
    }
   },
   "source": [
    "print(response)"
   ],
   "outputs": [
    {
     "name": "stdout",
     "output_type": "stream",
     "text": [
      "Hello! The best way to write a loop in Python depends on what you want to achieve, but generally, Python's `for` loops are very clean and Pythonic. For example, if you want to iterate over a sequence (like a list or a range), a `for` loop is usually the best way:\n",
      "\n",
      "```python\n",
      "for item in iterable:\n",
      "    # do something with item\n",
      "```\n",
      "\n",
      "Here’s a simple example that prints numbers from 0 to 4:\n",
      "\n",
      "```python\n",
      "for i in range(5):\n",
      "    print(i)\n",
      "```\n",
      "\n",
      "If you want to repeat an action while a condition is true, a `while` loop is appropriate:\n",
      "\n",
      "```python\n",
      "count = 0\n",
      "while count < 5:\n",
      "    print(count)\n",
      "    count += 1\n",
      "```\n",
      "\n",
      "If you want, I can help tailor a loop example to your specific use case! Just let me know what you're trying to do. 😊\n"
     ]
    }
   ],
   "execution_count": 11
  },
  {
   "cell_type": "markdown",
   "metadata": {
    "id": "r2nxxhB2R6yy"
   },
   "source": [
    "## Task 5: Retrieval Augmented Generation\n",
    "\n",
    "Now we can create a RAG prompt - which will help our system behave in a way that makes sense!\n",
    "\n",
    "There is much you could do here, many tweaks and improvements to be made!"
   ]
  },
  {
   "cell_type": "code",
   "metadata": {
    "id": "D1hamzGaR6yy",
    "ExecuteTime": {
     "end_time": "2025-09-21T07:46:34.612154Z",
     "start_time": "2025-09-21T07:46:34.610026Z"
    }
   },
   "source": [
    "RAG_SYSTEM_TEMPLATE = \"\"\"You are a knowledgeable assistant that answers questions based strictly on provided context.\n",
    "\n",
    "Instructions:\n",
    "- Only answer questions using information from the provided context\n",
    "- If the context doesn't contain relevant information, respond with \"I don't know\"\n",
    "- Be accurate and cite specific parts of the context when possible\n",
    "- Keep responses {response_style} and {response_length}\n",
    "- Only use the provided context. Do not use external knowledge.\n",
    "- Only provide answers when you are confident the context supports your response.\"\"\"\n",
    "\n",
    "RAG_USER_TEMPLATE = \"\"\"Context Information:\n",
    "{context}\n",
    "\n",
    "Number of relevant sources found: {context_count}\n",
    "{similarity_scores}\n",
    "\n",
    "Question: {user_query}\n",
    "\n",
    "Please provide your answer based solely on the context above.\"\"\"\n",
    "\n",
    "rag_system_prompt = SystemRolePrompt(\n",
    "    RAG_SYSTEM_TEMPLATE,\n",
    "    strict=True,\n",
    "    defaults={\n",
    "        \"response_style\": \"concise\",\n",
    "        \"response_length\": \"brief\"\n",
    "    }\n",
    ")\n",
    "\n",
    "rag_user_prompt = UserRolePrompt(\n",
    "    RAG_USER_TEMPLATE,\n",
    "    strict=True,\n",
    "    defaults={\n",
    "        \"context_count\": \"\",\n",
    "        \"similarity_scores\": \"\"\n",
    "    }\n",
    ")"
   ],
   "outputs": [],
   "execution_count": 12
  },
  {
   "cell_type": "markdown",
   "metadata": {},
   "source": [
    "Now we can create our pipeline!"
   ]
  },
  {
   "cell_type": "code",
   "metadata": {
    "ExecuteTime": {
     "end_time": "2025-09-21T07:46:34.622615Z",
     "start_time": "2025-09-21T07:46:34.619751Z"
    }
   },
   "source": [
    "class RetrievalAugmentedQAPipeline:\n",
    "    def __init__(self, llm: ChatOpenAI, vector_db_retriever: VectorDatabase, \n",
    "                 response_style: str = \"detailed\", include_scores: bool = False) -> None:\n",
    "        self.llm = llm\n",
    "        self.vector_db_retriever = vector_db_retriever\n",
    "        self.response_style = response_style\n",
    "        self.include_scores = include_scores\n",
    "\n",
    "    def run_pipeline(self, user_query: str, k: int = 4, **system_kwargs) -> dict:\n",
    "        # Retrieve relevant contexts\n",
    "        context_list = self.vector_db_retriever.search_by_text(user_query, k=k)\n",
    "        \n",
    "        context_prompt = \"\"\n",
    "        similarity_scores = []\n",
    "        \n",
    "        for i, (context, score) in enumerate(context_list, 1):\n",
    "            context_prompt += f\"[Source {i}]: {context}\\n\\n\"\n",
    "            similarity_scores.append(f\"Source {i}: {score:.3f}\")\n",
    "        \n",
    "        # Create system message with parameters\n",
    "        system_params = {\n",
    "            \"response_style\": self.response_style,\n",
    "            \"response_length\": system_kwargs.get(\"response_length\", \"detailed\")\n",
    "        }\n",
    "        \n",
    "        formatted_system_prompt = rag_system_prompt.create_message(**system_params)\n",
    "        \n",
    "        user_params = {\n",
    "            \"user_query\": user_query,\n",
    "            \"context\": context_prompt.strip(),\n",
    "            \"context_count\": len(context_list),\n",
    "            \"similarity_scores\": f\"Relevance scores: {', '.join(similarity_scores)}\" if self.include_scores else \"\"\n",
    "        }\n",
    "        \n",
    "        formatted_user_prompt = rag_user_prompt.create_message(**user_params)\n",
    "\n",
    "        return {\n",
    "            \"response\": self.llm.run([formatted_system_prompt, formatted_user_prompt]), \n",
    "            \"context\": context_list,\n",
    "            \"context_count\": len(context_list),\n",
    "            \"similarity_scores\": similarity_scores if self.include_scores else None,\n",
    "            \"prompts_used\": {\n",
    "                \"system\": formatted_system_prompt,\n",
    "                \"user\": formatted_user_prompt\n",
    "            }\n",
    "        }"
   ],
   "outputs": [],
   "execution_count": 13
  },
  {
   "cell_type": "code",
   "metadata": {
    "ExecuteTime": {
     "end_time": "2025-09-21T07:46:37.844165Z",
     "start_time": "2025-09-21T07:46:34.628036Z"
    }
   },
   "source": [
    "rag_pipeline = RetrievalAugmentedQAPipeline(\n",
    "    vector_db_retriever=vector_db,\n",
    "    llm=chat_openai,\n",
    "    response_style=\"detailed\",\n",
    "    include_scores=True\n",
    ")\n",
    "\n",
    "result = rag_pipeline.run_pipeline(\n",
    "    \"What is the 'Michael Eisner Memorial Weak Executive Problem'?\",\n",
    "    k=3,\n",
    "    response_length=\"comprehensive\", \n",
    "    include_warnings=True,\n",
    "    confidence_required=True\n",
    ")\n",
    "\n",
    "print(f\"Response: {result['response']}\")\n",
    "print(f\"\\nContext Count: {result['context_count']}\")\n",
    "print(f\"Similarity Scores: {result['similarity_scores']}\")"
   ],
   "outputs": [
    {
     "name": "stdout",
     "output_type": "stream",
     "text": [
      "Response: The \"Michael Eisner Memorial Weak Executive Problem\" refers to a common issue where a CEO or startup founder who used to be deeply involved in a particular function (e.g., product management, sales, or marketing) hires a weak executive to run that function after they have moved on. This often happens because the CEO has a hard time letting go of the function that brought them to the company and wants to remain \"the man\" in that area. The problem is named after Michael Eisner, the former CEO of Disney, who was a brilliant TV network executive. When he acquired ABC at Disney, ABC fell to fourth place. Eisner's response was that if he had an extra two days a week, he could turn ABC around himself. However, he did not have that extra time, illustrating the challenge and folly of hiring weak executives in your former specialty and trying to do it all yourself (Source 1).\n",
      "\n",
      "Context Count: 3\n",
      "Similarity Scores: ['Source 1: 0.658', 'Source 2: 0.509', 'Source 3: 0.479']\n"
     ]
    }
   ],
   "execution_count": 14
  },
  {
   "cell_type": "markdown",
   "metadata": {
    "id": "zZIJI19uR6yz"
   },
   "source": [
    "#### ❓ Question #4:\n",
    "\n",
    "What prompting strategies could you use to make the LLM have a more thoughtful, detailed response?\n",
    "\n",
    "What is that strategy called?\n",
    "\n",
    "> NOTE: You can look through our [OpenAI Responses API](https://colab.research.google.com/drive/14SCfRnp39N7aoOx8ZxadWb0hAqk4lQdL?usp=sharing) notebook for an answer to this question if you get stuck!"
   ]
  },
  {
   "cell_type": "markdown",
   "metadata": {},
   "source": [
    "##### ✅ Answer:\n",
    "Using Chain-of-Thought prompting, we can instruct the LLM to go into a deeper reasoning step instead of an immediate answer. Along with this, we need to set the appropriate parameters when making the API call if we are making this call via a library."
   ]
  },
  {
   "cell_type": "markdown",
   "metadata": {},
   "source": [
    "l### 🏗️ Activity #1:\n",
    "\n",
    "Enhance your RAG application in some way! \n",
    "\n",
    "Suggestions are: \n",
    "\n",
    "- Allow it to work with PDF files\n",
    "- Implement a new distance metric\n",
    "- Add metadata support to the vector database\n",
    "- Use a different embedding model\n",
    "- Add the capability to ingest a YouTube link\n",
    "\n",
    "While these are suggestions, you should feel free to make whatever augmentations you desire! If you shared an idea during Session 1, think about features you might need to incorporate for your use case! \n",
    "\n",
    "When you're finished making the augments to your RAG application - vibe check it against the old one - see if you can \"feel the improvement\"!\n",
    "\n",
    "> NOTE: These additions might require you to work within the `aimakerspace` library - that's expected!\n",
    "\n",
    "> NOTE: If you're not sure where to start - ask Cursor (CMD/CTRL+L) to guide you through the changes!"
   ]
  },
  {
   "cell_type": "code",
   "metadata": {
    "ExecuteTime": {
     "end_time": "2025-09-21T09:10:26.598224Z",
     "start_time": "2025-09-21T09:10:26.596663Z"
    }
   },
   "source": [
    "### YOUR CODE HERE\n",
    "pdf_vector_db = True"
   ],
   "outputs": [],
   "execution_count": 16
  },
  {
   "cell_type": "markdown",
   "source": "### PDF RAG Enhancement Complete!\n\nYou have successfully enhanced the RAG application to work with PDF documents! Here's what we accomplished:\n\n1. **PDF Document Loading**: Created a `PDFLoader` class that can extract text from PDF files\n2. **Document Chunking**: Used the existing `CharacterTextSplitter` to break PDF content into manageable chunks\n3. **Vector Database**: Converted PDF chunks into embeddings using OpenAI's embedding model and stored them in a `VectorDatabase`\n4. **RAG Pipeline**: Created a complete RAG pipeline that can answer questions based on PDF content\n\n**Key Features Added:**\n- Support for PDF file format alongside text files\n- Page-by-page processing option for maintaining document structure\n- Semantic search capabilities on PDF content\n- Integration with the existing RAG pipeline architecture\n\n**Next Steps:**\nYou can further enhance this by:\n- Adding support for other document formats (DOCX, HTML, etc.)\n- Implementing better text preprocessing for PDFs\n- Adding metadata support (page numbers, sections, etc.)\n- Using different embedding models or chunking strategies\n- Adding document source tracking in responses",
   "metadata": {}
  },
  {
   "cell_type": "code",
   "source": "# Create and test the complete PDF RAG pipeline\nif pdf_vector_db:\n    print(\"Creating PDF RAG Pipeline...\")\n    print(\"=\" * 50)\n    \n    # Create a RAG pipeline for PDF documents\n    pdf_rag_pipeline = RetrievalAugmentedQAPipeline(\n        vector_db_retriever=pdf_vector_db,\n        llm=chat_openai,\n        response_style=\"detailed\",\n        include_scores=True\n    )\n    \n    # Test the complete RAG pipeline\n    test_questions = [\n        \"What is machine learning and how does it work?\",\n        \"What are the different types of machine learning?\",\n        \"Can you explain supervised learning algorithms?\"\n    ]\n    \n    for question in test_questions:\n        print(f\"\\nQuestion: {question}\")\n        print(\"-\" * 40)\n        \n        try:\n            result = pdf_rag_pipeline.run_pipeline(\n                question,\n                k=3,\n                response_length=\"comprehensive\"\n            )\n            \n            print(f\"Answer: {result['response']}\")\n            print(f\"Sources used: {result['context_count']}\")\n            if result['similarity_scores']:\n                print(f\"Similarity scores: {result['similarity_scores']}\")\n            print(\"=\" * 50)\n            \n        except Exception as e:\n            print(f\"Error processing question: {e}\")\n            print(\"=\" * 50)\n            \nelse:\n    print(\"PDF vector database is not available. Please check the PDF processing steps above.\")",
   "metadata": {},
   "execution_count": null,
   "outputs": []
  },
  {
   "cell_type": "code",
   "source": "# Test semantic search on the PDF vector database\nif pdf_vector_db:\n    print(\"Testing semantic search on PDF documents:\")\n    print(\"=\" * 50)\n    \n    # Test query 1\n    test_query_1 = \"What is machine learning?\"\n    results_1 = pdf_vector_db.search_by_text(test_query_1, k=2)\n    \n    print(f\"Query: {test_query_1}\")\n    print(f\"Found {len(results_1)} relevant chunks:\")\n    for i, (text, score) in enumerate(results_1, 1):\n        print(f\"\\nResult {i} (similarity: {score:.3f}):\")\n        print(text[:200] + \"...\" if len(text) > 200 else text)\n    \n    print(\"\\n\" + \"=\" * 50)\n    \n    # Test query 2\n    test_query_2 = \"What are the types of machine learning?\"\n    results_2 = pdf_vector_db.search_by_text(test_query_2, k=2)\n    \n    print(f\"Query: {test_query_2}\")\n    print(f\"Found {len(results_2)} relevant chunks:\")\n    for i, (text, score) in enumerate(results_2, 1):\n        print(f\"\\nResult {i} (similarity: {score:.3f}):\")\n        print(text[:200] + \"...\" if len(text) > 200 else text)\nelse:\n    print(\"PDF vector database is not available. Please check the steps above.\")",
   "metadata": {},
   "execution_count": null,
   "outputs": []
  },
  {
   "cell_type": "markdown",
   "source": "### Test PDF RAG Pipeline\n\nNow let's create a RAG pipeline for our PDF documents and test it with some queries!",
   "metadata": {}
  },
  {
   "cell_type": "code",
   "source": "# Create a vector database for our PDF documents\nif pdf_split_documents:\n    try:\n        print(\"Creating vector database from PDF documents...\")\n        pdf_vector_db = VectorDatabase()\n        pdf_vector_db = asyncio.run(pdf_vector_db.abuild_from_list(pdf_split_documents))\n        \n        print(f\"Successfully created vector database with {len(pdf_vector_db.vectors)} vectors\")\n        print(\"PDF documents are now ready for semantic search!\")\n        \n    except Exception as e:\n        print(f\"Error creating vector database: {e}\")\n        pdf_vector_db = None\nelse:\n    print(\"No PDF documents to process. Please check the PDF loading steps above.\")\n    pdf_vector_db = None",
   "metadata": {},
   "execution_count": null,
   "outputs": []
  },
  {
   "cell_type": "markdown",
   "source": "### Create Vector Database from PDF Documents\n\nNow let's convert the PDF chunks into embeddings and store them in a vector database using the same approach as before.",
   "metadata": {}
  },
  {
   "cell_type": "code",
   "source": "# Split the PDF documents into chunks using the same text splitter\ntry:\n    pdf_text_splitter = CharacterTextSplitter()\n    pdf_split_documents = pdf_text_splitter.split_texts(pdf_documents)\n    \n    print(f\"PDF document split into {len(pdf_split_documents)} chunks\")\n    print(f\"\\nFirst chunk preview:\")\n    print(pdf_split_documents[0][:200] + \"...\" if len(pdf_split_documents[0]) > 200 else pdf_split_documents[0])\n    \n    if len(pdf_split_documents) > 1:\n        print(f\"\\nSecond chunk preview:\")\n        print(pdf_split_documents[1][:200] + \"...\" if len(pdf_split_documents[1]) > 200 else pdf_split_documents[1])\n        \nexcept Exception as e:\n    print(f\"Error splitting PDF documents: {e}\")\n    pdf_split_documents = []",
   "metadata": {},
   "execution_count": null,
   "outputs": []
  },
  {
   "cell_type": "markdown",
   "source": "### Chunk PDF Documents\n\nNow let's chunk the PDF documents using the same CharacterTextSplitter that we used for the text documents.",
   "metadata": {}
  },
  {
   "cell_type": "code",
   "source": "# Now let's load the PDF document using our PDFLoader\ntry:\n    pdf_loader = PDFLoader(pdf_path)\n    pdf_documents = pdf_loader.load_documents()\n    \n    print(f\"Successfully loaded PDF with {len(pdf_documents)} document(s)\")\n    print(f\"First 300 characters of the PDF content:\")\n    print(pdf_documents[0][:300] + \"...\" if len(pdf_documents[0]) > 300 else pdf_documents[0])\n    \nexcept Exception as e:\n    print(f\"Error loading PDF: {e}\")\n    print(\"Please make sure you have a valid PDF file and update the pdf_path variable above.\")",
   "metadata": {},
   "execution_count": null,
   "outputs": []
  },
  {
   "cell_type": "code",
   "source": "# Create a simple PDF document for demonstration if none exists\nfrom reportlab.pdfgen import canvas\nfrom reportlab.lib.pagesizes import letter\nimport os\n\ndef create_sample_pdf(filename: str):\n    \"\"\"Create a simple PDF document for demonstration purposes.\"\"\"\n    try:\n        # Create data directory if it doesn't exist\n        os.makedirs(\"data\", exist_ok=True)\n        \n        c = canvas.Canvas(filename, pagesize=letter)\n        width, height = letter\n        \n        # Page 1\n        c.drawString(100, height - 100, \"Sample Document for RAG Testing\")\n        c.drawString(100, height - 130, \"\")\n        c.drawString(100, height - 160, \"Introduction to Machine Learning\")\n        c.drawString(100, height - 190, \"Machine learning is a subset of artificial intelligence that\")\n        c.drawString(100, height - 210, \"enables computers to learn and make decisions without\")\n        c.drawString(100, height - 230, \"being explicitly programmed for every task.\")\n        c.drawString(100, height - 260, \"\")\n        c.drawString(100, height - 290, \"Types of Machine Learning:\")\n        c.drawString(100, height - 310, \"1. Supervised Learning\")\n        c.drawString(100, height - 330, \"2. Unsupervised Learning\")\n        c.drawString(100, height - 350, \"3. Reinforcement Learning\")\n        \n        c.showPage()\n        \n        # Page 2\n        c.drawString(100, height - 100, \"Supervised Learning\")\n        c.drawString(100, height - 130, \"\")\n        c.drawString(100, height - 160, \"Supervised learning uses labeled training data to learn\")\n        c.drawString(100, height - 180, \"a mapping function from input to output. Examples include\")\n        c.drawString(100, height - 200, \"classification and regression tasks.\")\n        c.drawString(100, height - 230, \"\")\n        c.drawString(100, height - 260, \"Common algorithms:\")\n        c.drawString(100, height - 280, \"- Linear Regression\")\n        c.drawString(100, height - 300, \"- Decision Trees\")\n        c.drawString(100, height - 320, \"- Random Forest\")\n        c.drawString(100, height - 340, \"- Support Vector Machines\")\n        \n        c.save()\n        print(f\"Created sample PDF: {filename}\")\n        return True\n    except ImportError:\n        print(\"reportlab not installed. Please install it with: pip install reportlab\")\n        return False\n    except Exception as e:\n        print(f\"Error creating PDF: {e}\")\n        return False\n\n# Try to create a sample PDF if none exists\nif not pdf_files:\n    sample_pdf_path = \"data/sample_ml_document.pdf\"\n    if create_sample_pdf(sample_pdf_path):\n        pdf_path = sample_pdf_path\n    else:\n        print(\"Could not create sample PDF. Please provide your own PDF file.\")",
   "metadata": {},
   "execution_count": null,
   "outputs": []
  },
  {
   "cell_type": "code",
   "source": "# For this example, let's first check if there are any PDF files in the data directory\nimport glob\n\n# Look for PDF files in the data directory\npdf_files = glob.glob(\"data/*.pdf\")\nprint(f\"Found PDF files: {pdf_files}\")\n\n# If no PDF files are found, we'll create a simple demonstration\n# You can replace this with the path to your actual PDF file\nif pdf_files:\n    pdf_path = pdf_files[0]\n    print(f\"Using PDF file: {pdf_path}\")\nelse:\n    print(\"No PDF files found in data directory.\")\n    print(\"Please place a PDF file in the 'data' directory or update the path below.\")\n    # Example path - update this to point to your PDF file\n    pdf_path = \"data/sample_document.pdf\"  # Update this path to your PDF file",
   "metadata": {},
   "execution_count": null,
   "outputs": []
  },
  {
   "cell_type": "markdown",
   "source": "### Load PDF Documents\n\nNow let's create a sample PDF or use an existing one to test our PDF RAG system. If you don't have a PDF file available, we'll create a simple one for demonstration.",
   "metadata": {}
  },
  {
   "cell_type": "code",
   "source": "import PyPDF2\nimport os\nfrom typing import List\nfrom pathlib import Path\n\nclass PDFLoader:\n    \"\"\"\n    A simple PDF loader that extracts text from PDF files.\n    Similar to TextFileLoader but for PDF documents.\n    \"\"\"\n    \n    def __init__(self, file_path: str):\n        self.file_path = file_path\n        self.documents = []\n    \n    def load_documents(self) -> List[str]:\n        \"\"\"\n        Load and extract text from a PDF file.\n        Returns a list containing the extracted text as a single document.\n        \"\"\"\n        try:\n            with open(self.file_path, 'rb') as file:\n                pdf_reader = PyPDF2.PdfReader(file)\n                text = \"\"\n                \n                # Extract text from all pages\n                for page_num in range(len(pdf_reader.pages)):\n                    page = pdf_reader.pages[page_num]\n                    text += page.extract_text() + \"\\n\"\n                \n                self.documents = [text]\n                return self.documents\n                \n        except Exception as e:\n            print(f\"Error loading PDF: {e}\")\n            return []\n    \n    def load_documents_by_page(self) -> List[str]:\n        \"\"\"\n        Load and extract text from a PDF file, returning each page as a separate document.\n        This can be useful for maintaining page-level granularity.\n        \"\"\"\n        try:\n            with open(self.file_path, 'rb') as file:\n                pdf_reader = PyPDF2.PdfReader(file)\n                documents = []\n                \n                # Extract text from each page separately\n                for page_num in range(len(pdf_reader.pages)):\n                    page = pdf_reader.pages[page_num]\n                    page_text = page.extract_text()\n                    if page_text.strip():  # Only add non-empty pages\n                        documents.append(f\"Page {page_num + 1}:\\n{page_text}\")\n                \n                self.documents = documents\n                return self.documents\n                \n        except Exception as e:\n            print(f\"Error loading PDF: {e}\")\n            return []\n\nprint(\"PDF Loader class created successfully!\")",
   "metadata": {},
   "execution_count": null,
   "outputs": []
  },
  {
   "cell_type": "code",
   "source": "# Install PyPDF2 for PDF processing\n!pip install PyPDF2",
   "metadata": {},
   "execution_count": null,
   "outputs": []
  },
  {
   "cell_type": "markdown",
   "source": "## PDF RAG Enhancement\n\nLet's enhance our RAG application to work with PDF documents! We'll need to install a PDF processing library and create a PDF document loader.",
   "metadata": {}
  }
 ],
 "metadata": {
  "colab": {
   "provenance": []
  },
  "kernelspec": {
   "display_name": ".venv",
   "language": "python",
   "name": "python3"
  },
  "language_info": {
   "codemirror_mode": {
    "name": "ipython",
    "version": 3
   },
   "file_extension": ".py",
   "mimetype": "text/x-python",
   "name": "python",
   "nbconvert_exporter": "python",
   "pygments_lexer": "ipython3",
   "version": "3.12.9"
  },
  "orig_nbformat": 4
 },
 "nbformat": 4,
 "nbformat_minor": 0
}
